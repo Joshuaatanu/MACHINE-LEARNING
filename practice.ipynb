{
 "cells": [
  {
   "cell_type": "code",
   "execution_count": 1,
   "metadata": {},
   "outputs": [],
   "source": [
    "import tensorflow as tf\n",
    "import numpy as np"
   ]
  },
  {
   "cell_type": "code",
   "execution_count": 8,
   "metadata": {},
   "outputs": [
    {
     "data": {
      "text/plain": [
       "<tf.Tensor: shape=(100,), dtype=int32, numpy=\n",
       "array([ 0, -1,  0, -1,  0,  0,  0, -1,  0,  0,  1,  0,  0, -1,  0,  0, -1,\n",
       "        0,  0, -1,  0,  0,  0,  0, -1,  0,  0,  0,  0,  1,  0,  1,  0,  0,\n",
       "        0,  0,  0,  0,  0, -1,  1, -1,  0,  3,  0,  0,  0,  1, -1, -3,  0,\n",
       "        1,  0,  0, -1, -2, -1,  0,  1,  0,  0,  0,  0,  0,  0,  0,  0,  1,\n",
       "        0,  0,  0, -1,  0,  1,  0, -1,  0, -1,  0,  0,  0,  0,  0, -1,  0,\n",
       "        0,  0,  0,  0,  0,  0,  0,  0, -2,  0,  0,  0,  0,  0,  0])>"
      ]
     },
     "execution_count": 8,
     "metadata": {},
     "output_type": "execute_result"
    }
   ],
   "source": [
    "tf.random.set_seed(123)\n",
    "H =tf.constant(tf.random.normal(shape =[100]))\n",
    "# H.numpy()\n",
    "tf.cast(H, tf.int32)"
   ]
  }
 ],
 "metadata": {
  "kernelspec": {
   "display_name": "base",
   "language": "python",
   "name": "python3"
  },
  "language_info": {
   "codemirror_mode": {
    "name": "ipython",
    "version": 3
   },
   "file_extension": ".py",
   "mimetype": "text/x-python",
   "name": "python",
   "nbconvert_exporter": "python",
   "pygments_lexer": "ipython3",
   "version": "3.11.5"
  }
 },
 "nbformat": 4,
 "nbformat_minor": 2
}
